{
  "nbformat": 4,
  "nbformat_minor": 0,
  "metadata": {
    "colab": {
      "provenance": [],
      "include_colab_link": true
    },
    "kernelspec": {
      "name": "python3",
      "display_name": "Python 3"
    },
    "language_info": {
      "name": "python"
    }
  },
  "cells": [
    {
      "cell_type": "markdown",
      "metadata": {
        "id": "view-in-github",
        "colab_type": "text"
      },
      "source": [
        "<a href=\"https://colab.research.google.com/github/SANYAM1612/pythoncodes/blob/main/Copy_of_Untitled5.ipynb\" target=\"_parent\"><img src=\"https://colab.research.google.com/assets/colab-badge.svg\" alt=\"Open In Colab\"/></a>"
      ]
    },
    {
      "cell_type": "markdown",
      "source": [
        "A* search"
      ],
      "metadata": {
        "id": "r9TDAtATHFT0"
      }
    },
    {
      "cell_type": "code",
      "execution_count": null,
      "metadata": {
        "colab": {
          "base_uri": "https://localhost:8080/"
        },
        "id": "6ebuyOP2DCaV",
        "outputId": "92b9dca5-4f3f-49aa-aedd-57a441a8e93a"
      },
      "outputs": [
        {
          "output_type": "stream",
          "name": "stdout",
          "text": [
            "Path found: ['A', 'E', 'D', 'G']\n"
          ]
        },
        {
          "output_type": "execute_result",
          "data": {
            "text/plain": [
              "['A', 'E', 'D', 'G']"
            ]
          },
          "metadata": {},
          "execution_count": 1
        }
      ],
      "source": [
        "def aStarAlgo(start_node, stop_node):\n",
        "         \n",
        "        open_set = set(start_node) \n",
        "        closed_set = set()\n",
        "        g = {} \n",
        "        parents = {}\n",
        "\n",
        "        g[start_node] = 0\n",
        "        parents[start_node] = start_node\n",
        "         \n",
        "         \n",
        "        while len(open_set) > 0:\n",
        "            n = None\n",
        "\n",
        "            for v in open_set:\n",
        "                if n == None or g[v] + heuristic(v) < g[n] + heuristic(n):\n",
        "                    n = v\n",
        "             \n",
        "                     \n",
        "            if n == stop_node or Graph_nodes[n] == None:\n",
        "                pass\n",
        "            else:\n",
        "                for (m, weight) in get_neighbors(n):\n",
        "\n",
        "                    if m not in open_set and m not in closed_set:\n",
        "                        open_set.add(m)\n",
        "                        parents[m] = n\n",
        "                        g[m] = g[n] + weight\n",
        "\n",
        "                    else:\n",
        "                        if g[m] > g[n] + weight:\n",
        "                            g[m] = g[n] + weight\n",
        "                            parents[m] = n\n",
        "\n",
        "                            if m in closed_set:\n",
        "                                closed_set.remove(m)\n",
        "                                open_set.add(m)\n",
        " \n",
        "            if n == None:\n",
        "                print('Path does not exist!')\n",
        "                return None\n",
        " \n",
        "            if n == stop_node:\n",
        "                path = []\n",
        " \n",
        "                while parents[n] != n:\n",
        "                    path.append(n)\n",
        "                    n = parents[n]\n",
        " \n",
        "                path.append(start_node)\n",
        " \n",
        "                path.reverse()\n",
        " \n",
        "                print('Path found: {}'.format(path))\n",
        "                return path\n",
        " \n",
        "            open_set.remove(n)\n",
        "            closed_set.add(n)\n",
        " \n",
        "        print('Path does not exist!')\n",
        "        return None\n",
        "\n",
        "def get_neighbors(v):\n",
        "    if v in Graph_nodes:\n",
        "        return Graph_nodes[v]\n",
        "    else:\n",
        "        return None\n",
        "\n",
        "def heuristic(n):\n",
        "        H_dist = {\n",
        "            'A': 11,\n",
        "            'B': 6,\n",
        "            'C': 99,\n",
        "            'D': 1,\n",
        "            'E': 7,\n",
        "            'G': 0,\n",
        "             \n",
        "        }\n",
        " \n",
        "        return H_dist[n]\n",
        " \n",
        "Graph_nodes = {\n",
        "    'A': [('B', 2), ('E', 3)],\n",
        "    'B': [('C', 1),('G', 9)],\n",
        "    'C': None,\n",
        "    'E': [('D', 6)],\n",
        "    'D': [('G', 1)],\n",
        "     \n",
        "}\n",
        "aStarAlgo('A', 'G')"
      ]
    },
    {
      "cell_type": "markdown",
      "source": [
        "AO* search"
      ],
      "metadata": {
        "id": "JWLeGovyZIdy"
      }
    },
    {
      "cell_type": "code",
      "source": [
        "\n",
        "def Cost(H, condition, weight = 1):\n",
        "\tcost = {}\n",
        "\tif 'AND' in condition:\n",
        "\t\tAND_nodes = condition['AND']\n",
        "\t\tPath_A = ' AND '.join(AND_nodes)\n",
        "\t\tPathA = sum(H[node]+weight for node in AND_nodes)\n",
        "\t\tcost[Path_A] = PathA\n",
        "\n",
        "\tif 'OR' in condition:\n",
        "\t\tOR_nodes = condition['OR']\n",
        "\t\tPath_B =' OR '.join(OR_nodes)\n",
        "\t\tPathB = min(H[node]+weight for node in OR_nodes)\n",
        "\t\tcost[Path_B] = PathB\n",
        "\treturn cost\n",
        "\n",
        "\n",
        "def update_cost(H, Conditions, weight=1):\n",
        "\tMain_nodes = list(Conditions.keys())\n",
        "\tMain_nodes.reverse()\n",
        "\tleast_cost= {}\n",
        "\tfor key in Main_nodes:\n",
        "\t\tcondition = Conditions[key]\n",
        "\t\tprint(key,':', Conditions[key],'>>>', Cost(H, condition, weight))\n",
        "\t\tc = Cost(H, condition, weight)\n",
        "\t\tH[key] = min(c.values())\n",
        "\t\tleast_cost[key] = Cost(H, condition, weight)\t\t\n",
        "\treturn least_cost\n",
        "\n",
        "\n",
        "def shortest_path(Start,Updated_cost, H):\n",
        "\tPath = Start\n",
        "\tif Start in Updated_cost.keys():\n",
        "\t\tMin_cost = min(Updated_cost[Start].values())\n",
        "\t\tkey = list(Updated_cost[Start].keys())\n",
        "\t\tvalues = list(Updated_cost[Start].values())\n",
        "\t\tIndex = values.index(Min_cost)\n",
        "\t\t\n",
        "\n",
        "\t\tNext = key[Index].split()\n",
        "\t\n",
        "\t\tif len(Next) == 1:\n",
        "\n",
        "\t\t\tStart =Next[0]\n",
        "\t\t\tPath += '<--' +shortest_path(Start, Updated_cost, H)\n",
        "\n",
        "\t\telse:\n",
        "\t\t\tPath +='<--('+key[Index]+') '\n",
        "\n",
        "\t\t\tStart = Next[0]\n",
        "\t\t\tPath += '[' +shortest_path(Start, Updated_cost, H) + ' + '\n",
        "\n",
        "\t\t\tStart = Next[-1]\n",
        "\t\t\tPath += shortest_path(Start, Updated_cost, H) + ']'\n",
        "\n",
        "\treturn Path\n",
        "\t\t\n",
        "\t\t\n",
        "\n",
        "H = {'A': -1, 'B': 5, 'C': 2, 'D': 4, 'E': 7, 'F': 9, 'G': 3, 'H': 0, 'I':0, 'J':0}\n",
        "\n",
        "Conditions = {\n",
        "'A': {'OR': ['B'], 'AND': ['C', 'D']},\n",
        "'B': {'OR': ['E', 'F']},\n",
        "'C': {'OR': ['G'], 'AND': ['H', 'I']},\n",
        "'D': {'OR': ['J']}\n",
        "}\n",
        "\n",
        "weight = 1\n",
        "\n",
        "print('Updated Cost :')\n",
        "Updated_cost = update_cost(H, Conditions, weight=1)\n",
        "print('*'*75)\n",
        "print('Shortest Path :\\n',shortest_path('A', Updated_cost,H))\n"
      ],
      "metadata": {
        "id": "-egAsxYdZG3M",
        "colab": {
          "base_uri": "https://localhost:8080/"
        },
        "outputId": "c2a81712-545e-4144-bb47-63c2ef0b6ebd"
      },
      "execution_count": null,
      "outputs": [
        {
          "output_type": "stream",
          "name": "stdout",
          "text": [
            "Updated Cost :\n",
            "D : {'OR': ['J']} >>> {'J': 1}\n",
            "C : {'OR': ['G'], 'AND': ['H', 'I']} >>> {'H AND I': 2, 'G': 4}\n",
            "B : {'OR': ['E', 'F']} >>> {'E OR F': 8}\n",
            "A : {'OR': ['B'], 'AND': ['C', 'D']} >>> {'C AND D': 5, 'B': 9}\n",
            "***************************************************************************\n",
            "Shortest Path :\n",
            " A<--(C AND D) [C<--(H AND I) [H + I] + D<--J]\n"
          ]
        }
      ]
    },
    {
      "cell_type": "markdown",
      "source": [
        "BREADTH FIRST SEARCH"
      ],
      "metadata": {
        "id": "tQ1GoYDgZvXA"
      }
    },
    {
      "cell_type": "code",
      "source": [
        "graph = {\n",
        "  '5' : ['3','7'],\n",
        "  '3' : ['2', '4'],\n",
        "  '7' : ['8'],\n",
        "  '2' : [],\n",
        "  '4' : ['8'],\n",
        "  '8' : []\n",
        "}\n",
        "\n",
        "visited = [] \n",
        "queue = []    \n",
        "\n",
        "def bfs(visited, graph, node): \n",
        "  visited.append(node)\n",
        "  queue.append(node)\n",
        "\n",
        "  while queue:       \n",
        "    m = queue.pop(0) \n",
        "    print (m, end = \" \") \n",
        "\n",
        "    for neighbour in graph[m]:\n",
        "      if neighbour not in visited:\n",
        "        visited.append(neighbour)\n",
        "        queue.append(neighbour)\n",
        "\n",
        "\n",
        "print(\"Following is the Breadth-First Search\")\n",
        "bfs(visited, graph, '5')    "
      ],
      "metadata": {
        "colab": {
          "base_uri": "https://localhost:8080/"
        },
        "id": "TnIcR9d0Z2p8",
        "outputId": "915067e1-a1e8-4863-ab9c-689654349297"
      },
      "execution_count": null,
      "outputs": [
        {
          "output_type": "stream",
          "name": "stdout",
          "text": [
            "Following is the Breadth-First Search\n",
            "5 3 7 2 4 8 "
          ]
        }
      ]
    },
    {
      "cell_type": "markdown",
      "source": [
        "DEPTH FIRST SEARCH"
      ],
      "metadata": {
        "id": "Hu5XrPJXaBwb"
      }
    },
    {
      "cell_type": "code",
      "source": [
        "\n",
        "graph = {\n",
        "  '5' : ['3','7'],\n",
        "  '3' : ['2', '4'],\n",
        "  '7' : ['8'],\n",
        "  '2' : [],\n",
        "  '4' : ['8'],\n",
        "  '8' : []\n",
        "}\n",
        "\n",
        "visited = set() \n",
        "\n",
        "def dfs(visited, graph, node):\n",
        "    if node not in visited:\n",
        "        print (node)\n",
        "        visited.add(node)\n",
        "        for neighbour in graph[node]:\n",
        "            dfs(visited, graph, neighbour)\n",
        "\n",
        "\n",
        "print(\"Following is the Depth-First Search\")\n",
        "dfs(visited, graph, '5')"
      ],
      "metadata": {
        "colab": {
          "base_uri": "https://localhost:8080/"
        },
        "id": "k46cxvJXaEs0",
        "outputId": "786801b8-25e7-4d14-8e11-f48532edc0b0"
      },
      "execution_count": null,
      "outputs": [
        {
          "output_type": "stream",
          "name": "stdout",
          "text": [
            "Following is the Depth-First Search\n",
            "5\n",
            "3\n",
            "2\n",
            "4\n",
            "8\n",
            "7\n"
          ]
        }
      ]
    },
    {
      "cell_type": "markdown",
      "source": [
        "BEST FIRST SEARCH"
      ],
      "metadata": {
        "id": "pfZxkNFgaNpP"
      }
    },
    {
      "cell_type": "code",
      "source": [
        "from queue import PriorityQueue\n",
        "v = 14\n",
        "graph = [[] for i in range(v)]\n",
        "\n",
        "\n",
        "\n",
        "def best_first_search(actual_Src, target, n):\n",
        "\tvisited = [False] * n\n",
        "\tpq = PriorityQueue()\n",
        "\tpq.put((0, actual_Src))\n",
        "\tvisited[actual_Src] = True\n",
        "\t\n",
        "\twhile pq.empty() == False:\n",
        "\t\tu = pq.get()[1]\n",
        "\n",
        "\t\tprint(u, end=\" \")\n",
        "\t\tif u == target:\n",
        "\t\t\tbreak\n",
        "\n",
        "\t\tfor v, c in graph[u]:\n",
        "\t\t\tif visited[v] == False:\n",
        "\t\t\t\tvisited[v] = True\n",
        "\t\t\t\tpq.put((c, v))\n",
        "\tprint()\n",
        "\n",
        "\n",
        "\n",
        "def addedge(x, y, cost):\n",
        "\tgraph[x].append((y, cost))\n",
        "\tgraph[y].append((x, cost))\n",
        "\n",
        "addedge(0, 1, 3)\n",
        "addedge(0, 2, 6)\n",
        "addedge(0, 3, 5)\n",
        "addedge(1, 4, 9)\n",
        "addedge(1, 5, 8)\n",
        "addedge(2, 6, 12)\n",
        "addedge(2, 7, 14)\n",
        "addedge(3, 8, 7)\n",
        "addedge(8, 9, 5)\n",
        "addedge(8, 10, 6)\n",
        "addedge(9, 11, 1)\n",
        "addedge(9, 12, 10)\n",
        "addedge(9, 13, 2)\n",
        "\n",
        "source = 0\n",
        "target = 9\n",
        "best_first_search(source, target, v)\n"
      ],
      "metadata": {
        "id": "B2QPNd5aaxXB",
        "outputId": "1ce302c4-5c32-46ef-ae97-d881408c8330",
        "colab": {
          "base_uri": "https://localhost:8080/"
        }
      },
      "execution_count": null,
      "outputs": [
        {
          "output_type": "stream",
          "name": "stdout",
          "text": [
            "0 1 3 2 8 9 \n"
          ]
        }
      ]
    },
    {
      "cell_type": "markdown",
      "source": [
        "STEEPEST HILL CLIMBING\n",
        "https://towardsdatascience.com/how-to-implement-the-hill-climbing-algorithm-in-python-1c65c29469de"
      ],
      "metadata": {
        "id": "wteN8MC9bOO5"
      }
    },
    {
      "cell_type": "code",
      "source": [
        "import random\n",
        "\n",
        "def randomSolution(tsp):\n",
        "    cities = list(range(len(tsp)))\n",
        "    solution = []\n",
        "\n",
        "    for i in range(len(tsp)):\n",
        "        randomCity = cities[random.randint(0, len(cities) - 1)]\n",
        "        solution.append(randomCity)\n",
        "        cities.remove(randomCity)\n",
        "\n",
        "    return solution\n",
        "\n",
        "def routeLength(tsp, solution):\n",
        "    routeLength = 0\n",
        "    for i in range(len(solution)):\n",
        "        routeLength += tsp[solution[i - 1]][solution[i]]\n",
        "    return routeLength\n",
        "\n",
        "def getNeighbours(solution):\n",
        "    neighbours = []\n",
        "    for i in range(len(solution)):\n",
        "        for j in range(i + 1, len(solution)):\n",
        "            neighbour = solution.copy()\n",
        "            neighbour[i] = solution[j]\n",
        "            neighbour[j] = solution[i]\n",
        "            neighbours.append(neighbour)\n",
        "    return neighbours\n",
        "\n",
        "def getBestNeighbour(tsp, neighbours):\n",
        "    bestRouteLength = routeLength(tsp, neighbours[0])\n",
        "    bestNeighbour = neighbours[0]\n",
        "    for neighbour in neighbours:\n",
        "        currentRouteLength = routeLength(tsp, neighbour)\n",
        "        if currentRouteLength < bestRouteLength:\n",
        "            bestRouteLength = currentRouteLength\n",
        "            bestNeighbour = neighbour\n",
        "    return bestNeighbour, bestRouteLength\n",
        "\n",
        "def hillClimbing(tsp):\n",
        "    currentSolution = randomSolution(tsp)\n",
        "    currentRouteLength = routeLength(tsp, currentSolution)\n",
        "    neighbours = getNeighbours(currentSolution)\n",
        "    bestNeighbour, bestNeighbourRouteLength = getBestNeighbour(tsp, neighbours)\n",
        "\n",
        "    while bestNeighbourRouteLength < currentRouteLength:\n",
        "        currentSolution = bestNeighbour\n",
        "        currentRouteLength = bestNeighbourRouteLength\n",
        "        neighbours = getNeighbours(currentSolution)\n",
        "        bestNeighbour, bestNeighbourRouteLength = getBestNeighbour(tsp, neighbours)\n",
        "\n",
        "    return currentSolution, currentRouteLength\n",
        "\n",
        "def main():\n",
        "    tsp = [\n",
        "        [0, 400, 500, 300],\n",
        "        [400, 0, 300, 500],\n",
        "        [500, 300, 0, 400],\n",
        "        [300, 500, 400, 0]\n",
        "    ]\n",
        "\n",
        "    print(hillClimbing(tsp))\n",
        "\n",
        "if __name__ == \"__main__\":\n",
        "    main()"
      ],
      "metadata": {
        "colab": {
          "base_uri": "https://localhost:8080/"
        },
        "id": "GF8ISl4dbXMz",
        "outputId": "0fc0f35b-4939-45d3-afd9-616ac1c346f8"
      },
      "execution_count": null,
      "outputs": [
        {
          "output_type": "stream",
          "name": "stdout",
          "text": [
            "([2, 1, 0, 3], 1400)\n"
          ]
        }
      ]
    },
    {
      "cell_type": "markdown",
      "source": [
        "uniform cost search\n"
      ],
      "metadata": {
        "id": "gq4LGgZvgL5a"
      }
    },
    {
      "cell_type": "code",
      "source": [
        "\n",
        "from collections import defaultdict\n",
        "\n",
        "class Graph:\n",
        "\n",
        "\n",
        "\tdef __init__(self):\n",
        "\n",
        "\n",
        "\t\tself.graph = defaultdict(list)\n",
        "\n",
        "\n",
        "\tdef addEdge(self,u,v):\n",
        "\t\tself.graph[u].append(v)\n",
        "\n",
        "\n",
        "\tdef BFS(self, s):\n",
        "\n",
        "\t\n",
        "\t\tvisited = [False] * (len(self.graph))\n",
        "\n",
        "\n",
        "\t\tqueue = []\n",
        "\n",
        "\t\tqueue.append(s)\n",
        "\t\tvisited[s] = True\n",
        "\n",
        "\t\twhile queue:\n",
        "\n",
        "\t\t\ts = queue.pop(0)\n",
        "\t\t\tprint (s, end = \" \")\n",
        "\n",
        "\t\t\tfor i in self.graph[s]:\n",
        "\t\t\t\tif visited[i] == False:\n",
        "\t\t\t\t\tqueue.append(i)\n",
        "\t\t\t\t\tvisited[i] = True\n",
        "\n",
        "g = Graph()\n",
        "g.addEdge(0, 1)\n",
        "g.addEdge(0, 2)\n",
        "g.addEdge(1, 2)\n",
        "g.addEdge(2, 0)\n",
        "g.addEdge(2, 3)\n",
        "g.addEdge(3, 3)\n",
        "\n",
        "print (\"Following is Breadth First Traversal\"\n",
        "\t\t\t\t\" (starting from vertex 2)\")\n",
        "g.BFS(2)\n",
        "\n",
        "\n"
      ],
      "metadata": {
        "id": "jTOzhGfbgOip",
        "outputId": "39f94719-f6d3-47dc-85ce-b46918cf5def",
        "colab": {
          "base_uri": "https://localhost:8080/"
        }
      },
      "execution_count": null,
      "outputs": [
        {
          "output_type": "stream",
          "name": "stdout",
          "text": [
            "Following is Breadth First Traversal (starting from vertex 2)\n",
            "2 0 3 1 "
          ]
        }
      ]
    },
    {
      "cell_type": "markdown",
      "source": [
        "Water Jug Problem"
      ],
      "metadata": {
        "id": "6zXlUBEWnzRy"
      }
    },
    {
      "cell_type": "code",
      "source": [
        "\n",
        "def gcd(a, b):\n",
        "\tif b==0:\n",
        "\t\treturn a\n",
        "\treturn gcd(b, a%b)\n",
        "\n",
        "\n",
        "''' fromCap -- Capacity of jug from which\n",
        "\t\t\twater is poured\n",
        "toCap -- Capacity of jug to which\n",
        "\t\t\twater is poured\n",
        "d\t -- Amount to be measured '''\n",
        "def Pour(toJugCap, fromJugCap, d):\n",
        "\n",
        "\n",
        "\tfromJug = fromJugCap\n",
        "\ttoJug = 0\n",
        "\n",
        "\tstep = 1\n",
        "\twhile ((fromJug is not d) and (toJug is not d)):\n",
        "\n",
        "\t\t\n",
        "\t\ttemp = min(fromJug, toJugCap-toJug)\n",
        "\n",
        "\t\ttoJug = toJug + temp\n",
        "\t\tfromJug = fromJug - temp\n",
        "\n",
        "\t\tstep = step + 1\n",
        "\t\tif ((fromJug == d) or (toJug == d)):\n",
        "\t\t\tbreak\n",
        "\n",
        "\t\tif fromJug == 0:\n",
        "\t\t\tfromJug = fromJugCap\n",
        "\t\t\tstep = step + 1\n",
        "\n",
        "\t\tif toJug == toJugCap:\n",
        "\t\t\ttoJug = 0\n",
        "\t\t\tstep = step + 1\n",
        "\t\t\t\n",
        "\treturn step\n",
        "\n",
        "def minSteps(n, m, d):\n",
        "\tif m> n:\n",
        "\t\ttemp = m\n",
        "\t\tm = n\n",
        "\t\tn = temp\n",
        "\t\t\n",
        "\tif (d%(gcd(n,m)) is not 0):\n",
        "\t\treturn -1\n",
        "\t\n",
        "\n",
        "\treturn(min(Pour(n,m,d), Pour(m,n,d)))\n",
        "\n",
        "if __name__ == '__main__':\n",
        "\n",
        "\tn = 3\n",
        "\tm = 5\n",
        "\td = 4\n",
        "\n",
        "\tprint('Minimum number of steps required is',\n",
        "\t\t\t\t\t\t\tminSteps(n, m, d))\n",
        "\t\n",
        "\n"
      ],
      "metadata": {
        "id": "hWTY9aP7nw0y",
        "outputId": "08da60fc-8cf9-42ef-cafe-0790ddc4473c",
        "colab": {
          "base_uri": "https://localhost:8080/"
        }
      },
      "execution_count": null,
      "outputs": [
        {
          "output_type": "stream",
          "name": "stdout",
          "text": [
            "Minimum number of steps required is 6\n"
          ]
        },
        {
          "output_type": "stream",
          "name": "stderr",
          "text": [
            "<>:47: SyntaxWarning: \"is not\" with a literal. Did you mean \"!=\"?\n",
            "<>:47: SyntaxWarning: \"is not\" with a literal. Did you mean \"!=\"?\n",
            "<ipython-input-3-fee73112e73b>:47: SyntaxWarning: \"is not\" with a literal. Did you mean \"!=\"?\n",
            "  if (d%(gcd(n,m)) is not 0):\n"
          ]
        }
      ]
    },
    {
      "cell_type": "markdown",
      "source": [
        "A* ON 8 PUZZLE PROBLEM"
      ],
      "metadata": {
        "id": "g4-PX4m3ogNx"
      }
    },
    {
      "cell_type": "code",
      "source": [
        "\n",
        "import copy\n",
        "\n",
        "from heapq import heappush, heappop\n",
        "\n",
        "n = 3\n",
        "\n",
        "row = [ 1, 0, -1, 0 ]\n",
        "col = [ 0, -1, 0, 1 ]\n",
        "\n",
        "class priorityQueue:\n",
        "\t\n",
        "\tdef __init__(self):\n",
        "\t\tself.heap = []\n",
        "\n",
        "\tdef push(self, k):\n",
        "\t\theappush(self.heap, k)\n",
        "\n",
        "\tdef pop(self):\n",
        "\t\treturn heappop(self.heap)\n",
        "\n",
        "\tdef empty(self):\n",
        "\t\tif not self.heap:\n",
        "\t\t\treturn True\n",
        "\t\telse:\n",
        "\t\t\treturn False\n",
        "\n",
        "class node:\n",
        "\t\n",
        "\tdef __init__(self, parent, mat, empty_tile_pos,\n",
        "\t\t\t\tcost, level):\n",
        "\t\t\t\t\t\n",
        "\t\tself.parent = parent\n",
        "\n",
        "\t\tself.mat = mat\n",
        "\n",
        "\t\tself.empty_tile_pos = empty_tile_pos\n",
        "\n",
        "\t\tself.cost = cost\n",
        "\n",
        "\t\tself.level = level\n",
        "\n",
        "\tdef __lt__(self, nxt):\n",
        "\t\treturn self.cost < nxt.cost\n",
        "\n",
        "def calculateCost(mat, final) -> int:\n",
        "\t\n",
        "\tcount = 0\n",
        "\tfor i in range(n):\n",
        "\t\tfor j in range(n):\n",
        "\t\t\tif ((mat[i][j]) and\n",
        "\t\t\t\t(mat[i][j] != final[i][j])):\n",
        "\t\t\t\tcount += 1\n",
        "\t\t\t\t\n",
        "\treturn count\n",
        "\n",
        "def newNode(mat, empty_tile_pos, new_empty_tile_pos,\n",
        "\t\t\tlevel, parent, final) -> node:\n",
        "\t\t\t\t\n",
        "\tnew_mat = copy.deepcopy(mat)\n",
        "\n",
        "\tx1 = empty_tile_pos[0]\n",
        "\ty1 = empty_tile_pos[1]\n",
        "\tx2 = new_empty_tile_pos[0]\n",
        "\ty2 = new_empty_tile_pos[1]\n",
        "\tnew_mat[x1][y1], new_mat[x2][y2] = new_mat[x2][y2], new_mat[x1][y1]\n",
        "\n",
        "\tcost = calculateCost(new_mat, final)\n",
        "\n",
        "\tnew_node = node(parent, new_mat, new_empty_tile_pos,\n",
        "\t\t\t\t\tcost, level)\n",
        "\treturn new_node\n",
        "\n",
        "def printMatrix(mat):\n",
        "\t\n",
        "\tfor i in range(n):\n",
        "\t\tfor j in range(n):\n",
        "\t\t\tprint(\"%d \" % (mat[i][j]), end = \" \")\n",
        "\t\t\t\n",
        "\t\tprint()\n",
        "\n",
        "def isSafe(x, y):\n",
        "\t\n",
        "\treturn x >= 0 and x < n and y >= 0 and y < n\n",
        "\n",
        "def printPath(root):\n",
        "\t\n",
        "\tif root == None:\n",
        "\t\treturn\n",
        "\t\n",
        "\tprintPath(root.parent)\n",
        "\tprintMatrix(root.mat)\n",
        "\tprint()\n",
        "\n",
        "def solve(initial, empty_tile_pos, final):\n",
        "\t\n",
        "\tpq = priorityQueue()\n",
        "\n",
        "\tcost = calculateCost(initial, final)\n",
        "\troot = node(None, initial,\n",
        "\t\t\t\tempty_tile_pos, cost, 0)\n",
        "\n",
        "\tpq.push(root)\n",
        "\n",
        "\twhile not pq.empty():\n",
        "\n",
        "\n",
        "\t\tminimum = pq.pop()\n",
        "\n",
        "\t\tif minimum.cost == 0:\n",
        "\t\t\t\n",
        "\t\t\tprintPath(minimum)\n",
        "\t\t\treturn\n",
        "\n",
        "\t\tfor i in range(4):\n",
        "\t\t\tnew_tile_pos = [\n",
        "\t\t\t\tminimum.empty_tile_pos[0] + row[i],\n",
        "\t\t\t\tminimum.empty_tile_pos[1] + col[i], ]\n",
        "\t\t\t\t\n",
        "\t\t\tif isSafe(new_tile_pos[0], new_tile_pos[1]):\n",
        "\t\t\t\t\n",
        "\t\t\n",
        "\t\t\t\tchild = newNode(minimum.mat,\n",
        "\t\t\t\t\t\t\t\tminimum.empty_tile_pos,\n",
        "\t\t\t\t\t\t\t\tnew_tile_pos,\n",
        "\t\t\t\t\t\t\t\tminimum.level + 1,\n",
        "\t\t\t\t\t\t\t\tminimum, final,)\n",
        "\n",
        "\t\t\n",
        "\t\t\t\tpq.push(child)\n",
        "\n",
        "initial = [ [ 1, 2, 3 ],\n",
        "\t\t\t[ 5, 6, 0 ],\n",
        "\t\t\t[ 7, 8, 4 ] ]\n",
        "\n",
        "final = [ [ 1, 2, 3 ],\n",
        "\t\t[ 5, 8, 6 ],\n",
        "\t\t[ 0, 7, 4 ] ]\n",
        "\n",
        "empty_tile_pos = [ 1, 2 ]\n",
        "\n",
        "solve(initial, empty_tile_pos, final)\n",
        "\n"
      ],
      "metadata": {
        "id": "wO7EXLQWoc8l",
        "outputId": "ea7f613e-439f-465e-cbf8-cd9b1ce59d40",
        "colab": {
          "base_uri": "https://localhost:8080/"
        }
      },
      "execution_count": null,
      "outputs": [
        {
          "output_type": "stream",
          "name": "stdout",
          "text": [
            "1  2  3  \n",
            "5  6  0  \n",
            "7  8  4  \n",
            "\n",
            "1  2  3  \n",
            "5  0  6  \n",
            "7  8  4  \n",
            "\n",
            "1  2  3  \n",
            "5  8  6  \n",
            "7  0  4  \n",
            "\n",
            "1  2  3  \n",
            "5  8  6  \n",
            "0  7  4  \n",
            "\n"
          ]
        }
      ]
    },
    {
      "cell_type": "markdown",
      "source": [
        "World Block Problem using DFS"
      ],
      "metadata": {
        "id": "ZOC9X43duZgW"
      }
    },
    {
      "cell_type": "code",
      "source": [
        "class BlocksWorld:\n",
        "    def __init__(self, n):\n",
        "        self.n = n\n",
        "        self.initial_state = list(range(n))\n",
        "        self.final_state = [0, 1, 2, 3]\n",
        "\n",
        "    def move(self, state, i, j):\n",
        "        new_state = state.copy()\n",
        "        block = new_state[i]\n",
        "        new_state[i] = None\n",
        "        new_state[j] = block\n",
        "        return new_state\n",
        "\n",
        "    def goal_test(self, state):\n",
        "        return state == self.final_state\n",
        "\n",
        "    def depth_first_search(self):\n",
        "        stack = [(self.initial_state, [])]\n",
        "        visited = set()\n",
        "\n",
        "        while stack:\n",
        "            state, actions = stack.pop()\n",
        "            if self.goal_test(state):\n",
        "                return actions\n",
        "            if str(state) in visited:\n",
        "                continue\n",
        "            visited.add(str(state))\n",
        "\n",
        "            for i in range(self.n):\n",
        "                for j in range(self.n):\n",
        "                    if i != j and state[i] is not None and (state[j] is None or state[i] < state[j]):\n",
        "                        new_state = self.move(state, i, j)\n",
        "                        stack.append((new_state, actions + [(i, j)]))\n",
        "        return None\n",
        "\n",
        "problem = BlocksWorld(4)\n",
        "actions = problem.depth_first_search()\n",
        "print(actions)\n"
      ],
      "metadata": {
        "id": "Wfcodl-yuWwM",
        "outputId": "fa7a4cd7-a077-46b7-92d7-7cc22f079068",
        "colab": {
          "base_uri": "https://localhost:8080/"
        }
      },
      "execution_count": null,
      "outputs": [
        {
          "output_type": "stream",
          "name": "stdout",
          "text": [
            "[]\n"
          ]
        }
      ]
    },
    {
      "cell_type": "markdown",
      "source": [],
      "metadata": {
        "id": "HuTOgCFauXh5"
      }
    }
  ]
}